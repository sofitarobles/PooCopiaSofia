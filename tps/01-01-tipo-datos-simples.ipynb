{
 "cells": [
  {
   "cell_type": "markdown",
   "id": "d95ed2f3-0f88-4611-ae07-9e1b532bef24",
   "metadata": {},
   "source": [
    "# TP - Tipo datos simples\n",
    "---"
   ]
  },
  {
   "cell_type": "markdown",
   "id": "960f18e5-38eb-4416-97e0-dd65b62e1d91",
   "metadata": {},
   "source": [
    "## Hola mundo"
   ]
  },
  {
   "cell_type": "markdown",
   "id": "51679e3d-88ba-4505-a241-6e649acb497b",
   "metadata": {},
   "source": [
    "Escribir un programa que muestre por pantalla la cadena Hola Mundo"
   ]
  },
  {
   "cell_type": "code",
   "execution_count": null,
   "id": "713b1016-d1f4-4eb5-a66a-8fa7d0b216c0",
   "metadata": {},
   "outputs": [],
   "source": "print(\"Hola Mundo\")"
  },
  {
   "cell_type": "markdown",
   "id": "b1e2b38b-72d5-4772-8e46-1e1e3a6f47ee",
   "metadata": {},
   "source": [
    "## Hola mundo en variable"
   ]
  },
  {
   "cell_type": "markdown",
   "id": "042b73b2-47ee-4846-8fa3-2bfe43dcf793",
   "metadata": {},
   "source": [
    "Escribir un programa que almacene la cadena Hola Mundo en una variable y luego muestre por pantalla el contenido de la variable"
   ]
  },
  {
   "cell_type": "code",
   "execution_count": null,
   "id": "966c2b18-91ba-46b1-8997-9fd11c3019ab",
   "metadata": {},
   "outputs": [],
   "source": [
    "hm = \"Hola Mundo\"\n",
    "print(hm)"
   ]
  },
  {
   "cell_type": "markdown",
   "id": "1a6ae09a-2786-423b-a591-3419e99f320d",
   "metadata": {},
   "source": [
    "## Hola usuario"
   ]
  },
  {
   "cell_type": "markdown",
   "id": "100dced9-bf26-4c95-adc5-06035070db99",
   "metadata": {},
   "source": [
    "Escribir un programa que pregunte el nombre del usuario en la consola y después de que el usuario lo introduzca muestre por pantalla la cadena ¡Hola \\<nombre>!, donde \\<nombre> es el nombre que el usuario haya introducido"
   ]
  },
  {
   "cell_type": "code",
   "execution_count": null,
   "id": "5eb634c7-eedc-49a7-9690-2cb099749a12",
   "metadata": {},
   "outputs": [],
   "source": [
    "nombre = input(\"¿Cuál es tu nombre?\")\n",
    "print(\"¡ Hola\", nombre,\"!\")"
   ]
  },
  {
   "cell_type": "markdown",
   "id": "67f58583-2e58-4564-bb01-f7274e4813fc",
   "metadata": {},
   "source": [
    "## Operación aritmética"
   ]
  },
  {
   "cell_type": "markdown",
   "id": "f72bcc3f-572b-4bca-9ebe-dde35ea344c0",
   "metadata": {},
   "source": [
    "Escribir un programa que muestre por pantalla el resultado de la siguiente operación aritmética:(3+2/2*5)^2"
   ]
  },
  {
   "cell_type": "code",
   "execution_count": null,
   "id": "bc271521-72b8-4f5e-884b-1b749d7d31c6",
   "metadata": {},
   "outputs": [],
   "source": [
    "resultado_xor = (int)(3 + (2/2)*5) ^ 2\n",
    "print(\"RESULTADO XOR:\", resultado_xor)\n",
    "\n",
    "resultado_potencia = (int)(3 + (2/2)*5) ** 2\n",
    "print(\"RESULTADO POTENCIA:\", resultado_potencia)\n"
   ]
  },
  {
   "cell_type": "markdown",
   "id": "fe97da7f-42db-4c3f-bb4f-1d072dc5afc7",
   "metadata": {},
   "source": [
    "## Suma y Cociente"
   ]
  },
  {
   "cell_type": "markdown",
   "id": "24f96f6b-56d3-41df-816b-7881f00b493b",
   "metadata": {},
   "source": [
    "Escribir un programa que lea dos valores enteros e informe la suma y su cociente"
   ]
  },
  {
   "cell_type": "code",
   "execution_count": null,
   "id": "d1a36c4f-2836-4ec6-b710-5adc6679dca4",
   "metadata": {},
   "outputs": [],
   "source": [
    "num1 = input(\"Ingresá un número\")\n",
    "num2 = input(\"Ingresá otro número\")#faltaría validar si el input es un número\n",
    "\n",
    "suma = int(num1) + int (num2)\n",
    "\n",
    "print(\"Su suma es: \", suma)\n",
    "\n",
    "if num1 != \"0\" and num2 != \"0\":\n",
    "    cociente = (float)(num1) /(float)(num2)\n",
    "    print(cociente)\n",
    "else:\n",
    "    print(\"No se puede dividir por cero\")\n"
   ]
  },
  {
   "cell_type": "markdown",
   "id": "41e2130e-4006-4644-b730-c838dd6feb4c",
   "metadata": {},
   "source": [
    "## Pago"
   ]
  },
  {
   "cell_type": "markdown",
   "id": "4c88fa1d-48ae-4443-8c27-2c195af5f339",
   "metadata": {},
   "source": [
    "Escribir un programa que pregunte al usuario por el número de horas trabajadas y el coste por hora. Después debe mostrar por pantalla el pago que le corresponde"
   ]
  },
  {
   "cell_type": "code",
   "execution_count": null,
   "id": "91bc3f1b-4ebb-47c1-90fe-819b9cb0d563",
   "metadata": {},
   "outputs": [],
   "source": [
    "horas = input(\"Horas trabajadas:\")\n",
    "coste_por_hora = input(\"Coste por hora:\")\n",
    "sueldo = int(horas) * int(coste_por_hora)\n",
    "print(\"Tu sueldo es:\", sueldo)\n"
   ]
  },
  {
   "cell_type": "markdown",
   "id": "2753f491-8e51-445d-900d-82da42503141",
   "metadata": {},
   "source": [
    "## Suma 1 a n"
   ]
  },
  {
   "cell_type": "markdown",
   "id": "0c18f3cc-5a46-4e7f-aa83-52cd00e15730",
   "metadata": {},
   "source": [
    "Escribir un programa que lea un entero positivo, n, introducido por el usuario y después muestre en pantalla la suma de todos los enteros desde 1 hasta n. La suma de los n primeros enteros positivos puede ser calculada de la siguiente forma suma = n(n+1)/2"
   ]
  },
  {
   "cell_type": "code",
   "execution_count": null,
   "id": "12839ac9-3a9c-4903-aa25-f22520b6be42",
   "metadata": {},
   "outputs": [],
   "source": [
    "n = int(input(\"Ingresa un numero entero positivo\"))\n",
    "suma = (n * (n + 1 ) / 2)\n",
    "print(\"La suma de los enteros positivos es: \", int(suma))\n"
   ]
  },
  {
   "cell_type": "markdown",
   "id": "1c0874b5-e7f9-41b3-9410-40ad157251be",
   "metadata": {},
   "source": [
    "## IMC"
   ]
  },
  {
   "cell_type": "markdown",
   "id": "1de172da-97d0-4dc0-8b48-3c9ebf96f47b",
   "metadata": {},
   "source": [
    "Escribir un programa que pida al usuario su peso (en kg) y estatura (en metros), calcule el índice de masa corporal y lo almacene en una variable, y muestre por pantalla la frase: Tu índice de masa corporal es \\<imc> donde \\<imc> es el índice de masa corporal calculado redondeado con dos decimales"
   ]
  },
  {
   "cell_type": "code",
   "execution_count": null,
   "id": "16ed0177-e30f-44a0-b7e7-ae9542a54a31",
   "metadata": {},
   "outputs": [],
   "source": [
    "peso = float(input(\"Ingresa tu peso\"))\n",
    "altura = float(input(\"ingresa tu altura\"))\n",
    "imc = (peso / (altura * altura))\n",
    "print(f\"Tu imc es = {imc:.2f}\")"
   ]
  },
  {
   "cell_type": "markdown",
   "id": "c9df4204-0455-472e-a687-93e9f10f2381",
   "metadata": {},
   "source": [
    "## Cociente y Resto"
   ]
  },
  {
   "cell_type": "markdown",
   "id": "75cc0851-8bc1-43e3-9257-27f5fde0326d",
   "metadata": {},
   "source": [
    "Escribir un programa que pida al usuario dos números enteros y muestre por pantalla la \\<n> entre \\<m> da un cociente \\<c> y un resto \\<r> donde \\<n> y \\<m> son los números introducidos por el usuario, y \\<c> y \\<r> son el cociente y el resto de la división entera respectivamente"
   ]
  },
  {
   "cell_type": "code",
   "execution_count": null,
   "id": "e3c15ae6-f03b-450b-8a0a-104565fe7d05",
   "metadata": {},
   "outputs": [],
   "source": [
    "n = (int(input(\"Ingresa un numero entero\")))\n",
    "m = (int(input(\"Ingresa otro numero entero distinto de cero\")))\n",
    "\n",
    "while m == 0:\n",
    "    print(\"No se puede dividir por cero, intenta de nuevo\")\n",
    "    m = (int(input(\"Ingresa otro numero entero distinto de cero\")))\n",
    "\n",
    "c = n // m\n",
    "r = n % m\n",
    "\n",
    "print(f\"El resultado de la división entre {n} y {m} es {c}, y su resto es {r}\")\n",
    "    \n"
   ]
  },
  {
   "cell_type": "markdown",
   "id": "06bbcb97-0f43-4fbe-ba6f-0b9abc09c154",
   "metadata": {},
   "source": [
    "## Inversión"
   ]
  },
  {
   "cell_type": "markdown",
   "id": "0b77fb6a-9c9b-4694-8925-7fb46d0852f2",
   "metadata": {},
   "source": [
    "Escribir un programa que pregunte al usuario una cantidad a invertir, el interés anual y el número de años, y muestre por pantalla el capital obtenido en la inversión"
   ]
  },
  {
   "cell_type": "code",
   "execution_count": null,
   "id": "e886ace0-9638-4d57-a2b9-c493e3eba5a2",
   "metadata": {},
   "outputs": [],
   "source": [
    "# m = c * (1+r)**n es la fórmula, donde m es el capital obtenido en la inversion, c es el capital inicial, r la tasa\n",
    "#de interes anual, n la cantidad de años\n",
    "c = (float(input(\"Ingresa el capital inicial\")))\n",
    "r = (float(input(\"Ingresa la tasa de interes anual en porcentaje\"))) / 100\n",
    "n = (float(input(\"Ingresa la cantidad de años\")))\n",
    "\n",
    "m = c * (1+r)**n\n",
    "interes_ganado = m - c\n",
    "\n",
    "print(f\"El capital total obtenido es {m:.2f} y el interes ganado es {interes_ganado:.2f}\")\n"
   ]
  },
  {
   "cell_type": "markdown",
   "id": "826e5686-ee4b-4bba-a4a7-be8ed706d0d3",
   "metadata": {},
   "source": [
    "## Juguetería"
   ]
  },
  {
   "cell_type": "markdown",
   "id": "7cf9f537-d6db-479c-b183-65f5cf8371d9",
   "metadata": {},
   "source": [
    "Una juguetería tiene mucho éxito en dos de sus productos: autos y muñecas. Suele hacer venta por correo y la empresa de logística les cobra por peso de cada paquete así que se debe calcular el peso de los autos y muñecas que saldrán en cada paquete a demanda. Cada auto pesa 112 g y cada muñeca 75 g. Escribir un programa que lea el número de autos y muñecas vendidos en el último pedido y calcule el peso total del paquete que será enviado"
   ]
  },
  {
   "cell_type": "code",
   "execution_count": null,
   "id": "2c58a3a6-83c2-459f-b65c-6a6ad762bcfd",
   "metadata": {},
   "outputs": [],
   "source": [
    "autos = int(input(\"Ingrese numero de autos vendidos en el ultimo pedido\"))\n",
    "muñecas = int(input(\"Ingrese numero de muñecas vendidas en el ultimo pedido\"))\n",
    "peso_autos_en_gramos = (float(autos * 112))\n",
    "peso_muñecas_en_gramos = (float(muñecas * 75))\n",
    "peso_total_en_kilos = (peso_autos_en_gramos + peso_muñecas_en_gramos)/1000\n",
    "print(f\"El peso total del pedido es {peso_total_en_kilos} kg\")"
   ]
  },
  {
   "cell_type": "markdown",
   "id": "686b8cfb-7f52-46b1-b0c7-80c59d84bd1b",
   "metadata": {},
   "source": [
    "## Caja de Ahorros"
   ]
  },
  {
   "cell_type": "markdown",
   "id": "eeffb363-3d72-4518-a672-2139b7e836da",
   "metadata": {},
   "source": [
    "Imagina que acabas de abrir una nueva caja de ahorros en USD que te ofrece el 4% de interés al año. Estos ahorros debido a intereses, que no se cobran hasta finales de año, se te añaden al balance final de tu caja de ahorros. Escribir un programa que comience leyendo la cantidad de dinero depositada en la cuenta de ahorros, introducida por el usuario. Después el programa debe calcular y mostrar por pantalla la cantidad de ahorros tras el primer, segundo y tercer años. Redondear cada cantidad a dos decimales"
   ]
  },
  {
   "cell_type": "code",
   "execution_count": null,
   "id": "44bc2387-3d17-47b5-a1bd-536837b164c5",
   "metadata": {},
   "outputs": [],
   "source": [
    "dinero_depositado = float(input(\"Ingresa dinero depositado en caja de ahorros:\"))\n",
    "interes_anual = 4/100  \n",
    "for cantidad_de_años in range(1, 4):\n",
    "    total_ahorros = dinero_depositado * (1 + interes_anual) ** cantidad_de_años\n",
    "    print(f\"La cantidad de ahorros en el año número {cantidad_de_años} es {total_ahorros:.2f}\")"
   ]
  },
  {
   "cell_type": "markdown",
   "id": "86fce922-de0e-4a18-b85f-4f7ff861a106",
   "metadata": {},
   "source": [
    "## Panadería"
   ]
  },
  {
   "cell_type": "markdown",
   "id": "d62522df-bfed-4c95-b0e5-626c62cf71b2",
   "metadata": {},
   "source": [
    "Una panadería vende bolsas de pan a ARS 2000 cada una. El pan que no es el día tiene un descuento del 60%. Escribir un programa que comience leyendo el número de bolsas vendidas que no son del día. Después el programa debe mostrar el precio\n",
    "habitual de una bolsa de pan, el descuento que se le hace por no ser fresca y el coste final total"
   ]
  },
  {
   "cell_type": "code",
   "execution_count": null,
   "id": "beb73f03-3216-4a4c-bd52-76b3fbb03ff2",
   "metadata": {},
   "outputs": [],
   "source": [
    "cant_bolsas_vendidas_no_frescas= (int(input(\"Ingresá el número de bolsas vendidas que no son del día: \")))\n",
    "precio_pan_del_dia = (int)(2000)\n",
    "descuento_por_no_fresco = \"60 %\"\n",
    "coste_final_total = cant_bolsas_vendidas_no_frescas * (precio_pan_del_dia * 0.6)\n",
    "print(f\"Precio habitual de una bolsa de pan = ${precio_pan_del_dia} \\nDescuento que se le hace por no ser fresca = {descuento_por_no_fresco} \\nCoste final total = ${coste_final_total:.2f}\")"
   ]
  },
  {
   "cell_type": "markdown",
   "id": "d72db668-61e4-447e-af13-1c00f80f6e4a",
   "metadata": {},
   "source": [
    "## Separar fecha"
   ]
  },
  {
   "cell_type": "markdown",
   "id": "a057ecd8-1f69-49ef-8fbd-fda9a78dd460",
   "metadata": {},
   "source": [
    "Se ingresa un valor numérico de  8 dígitos que representa una fecha con el siguiente formato aaaammdd. Se pide informar por separado el día, el mes y el año de la fecha ingresada"
   ]
  },
  {
   "cell_type": "code",
   "execution_count": null,
   "id": "6dd44d1c-3fd0-49c4-ad46-9beb18679a17",
   "metadata": {},
   "outputs": [],
   "source": [
    "fecha = (input(\"Ingresá una fecha con formato aaaammdd:\"))\n",
    "\n",
    "aaaa = fecha[0:4]\n",
    "mm = fecha[4:6]\n",
    "dd = fecha[6:8]\n",
    "\n",
    "print(f\"Año = {aaaa}\\nMes = {mm}\\nDía = {dd}\")\n"
   ]
  }
 ],
 "metadata": {
  "kernelspec": {
   "display_name": "Python [conda env:base] *",
   "language": "python",
   "name": "conda-base-py"
  },
  "language_info": {
   "codemirror_mode": {
    "name": "ipython",
    "version": 3
   },
   "file_extension": ".py",
   "mimetype": "text/x-python",
   "name": "python",
   "nbconvert_exporter": "python",
   "pygments_lexer": "ipython3",
   "version": "3.12.7"
  }
 },
 "nbformat": 4,
 "nbformat_minor": 5
}
