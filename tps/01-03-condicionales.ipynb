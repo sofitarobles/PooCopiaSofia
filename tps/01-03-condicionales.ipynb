{
 "cells": [
  {
   "cell_type": "markdown",
   "id": "8744c6c3-31b6-47a5-864b-b8491c2a7f22",
   "metadata": {},
   "source": [
    "# TP - Condicionales\n",
    "---"
   ]
  },
  {
   "cell_type": "markdown",
   "id": "3fc4efcc-1db1-4784-bdf2-41e568d78187",
   "metadata": {},
   "source": [
    "## Mayor edad"
   ]
  },
  {
   "cell_type": "markdown",
   "id": "87156384-441b-4fc3-9186-927502ff9665",
   "metadata": {},
   "source": [
    "Escribir un programa que pregunte al usuario su edad y muestre por pantalla si es mayor de edad o no"
   ]
  },
  {
   "cell_type": "code",
   "execution_count": null,
   "id": "61dbd22c-8f43-4008-955c-6cc61b5fb8eb",
   "metadata": {},
   "outputs": [],
   "source": [
    "edad = int(input(\"Ingresa tu edad:\"))\n",
    "if edad >=18:\n",
    "    print(\"Es mayor de edad\")\n",
    "else:\n",
    "    print(\"no es mayor de edad\")"
   ]
  },
  {
   "cell_type": "markdown",
   "id": "d5750f25-ee3e-448a-81f0-536b90e9fbb5",
   "metadata": {},
   "source": [
    "## Mayor y Menor"
   ]
  },
  {
   "cell_type": "markdown",
   "id": "3ab414cc-baa4-46be-9f5b-e12af44a7284",
   "metadata": {},
   "source": [
    "Leer dos valores numéricos enteros e indicar cual es el mayor y cual es el menor. Considerar que ambos valores son diferentes"
   ]
  },
  {
   "cell_type": "code",
   "execution_count": null,
   "id": "24140b24-5930-4632-9b45-bc6695aad27c",
   "metadata": {},
   "outputs": [],
   "source": [
    "num1 = int(input(\"Ingresá un numero:\"))\n",
    "num2 = int(input(\"Ingresá otro numero distinto al anterior:\"))\n",
    "\n",
    "if num1 == num2:\n",
    "    print(\"ERROR. Ingresá dos números distintos entre sí\")\n",
    "    \n",
    "if num1 < num2:\n",
    "    print(f\"{num2} es el mayor\")\n",
    "elif num1 > num2:\n",
    "    print(f\"{num1} es el mayor\")"
   ]
  },
  {
   "cell_type": "markdown",
   "id": "e53e54ce-646c-49ff-827c-a0431724731b",
   "metadata": {},
   "source": [
    "## Mayor, medio y menor"
   ]
  },
  {
   "cell_type": "markdown",
   "id": "e89eaec0-65bd-446b-9d93-1486af67e7b5",
   "metadata": {},
   "source": [
    "Leer tres valores numéricos enteros, indicar cual es el mayor, cuál es el del medio y cuál el menor. Considerar que los tres valores son diferentes"
   ]
  },
  {
   "cell_type": "code",
   "execution_count": null,
   "id": "aed58a7f-57c6-4713-8306-776633efb0fb",
   "metadata": {},
   "outputs": [],
   "source": [
    "num1 = int(input(\"Ingresá un numero:\"))\n",
    "num2 = int(input(\"Ingresá otro numero distinto al anterior:\"))\n",
    "num3 = int(input(\"Ingresá otro numero distinto a los anteriores:\"))\n",
    "\n",
    "if num1 == num2:\n",
    "    print(\"ERROR. Ingresá números distintos entre sí\")\n",
    "    \n",
    "if num1 > num2 and num1 > num3:\n",
    "    mayor = num1\n",
    "elif num2 > num1 and num2 > num3:\n",
    "    mayor = num2\n",
    "else:\n",
    "    mayor = num3\n",
    "\n",
    "if num1 < num2 and num1 < num3:\n",
    "    menor = num1\n",
    "elif num2 < num1 and num2 < num3:\n",
    "    menor = num2\n",
    "else:\n",
    "    menor = num3\n",
    "\n",
    "medio = num1 + num2 + num3 - mayor - menor\n",
    "\n",
    "print(f\"El mayor es {mayor}, el del medio es {medio}, y el menor es {menor}\")"
   ]
  },
  {
   "cell_type": "markdown",
   "id": "425ee78e-4f98-4c47-94cc-919044660b99",
   "metadata": {},
   "source": [
    "## Contraseña"
   ]
  },
  {
   "cell_type": "markdown",
   "id": "0c075224-d764-4231-bc1f-76e505724ae5",
   "metadata": {},
   "source": [
    "Escribir un programa que almacene la cadena de caracteres contraseña en una variable, pregunte al usuario por la contraseña e imprima por pantalla si la contraseña introducida por el usuario coincide con la guardada en la variable sin tener en cuenta mayúsculas y minúsculas"
   ]
  },
  {
   "cell_type": "code",
   "execution_count": null,
   "id": "442fdd6c-4a0f-4507-af9e-8ca31fbf723a",
   "metadata": {},
   "outputs": [],
   "source": [
    "contrasena_ingresada = input(\"Ingresá una contraseña\")\n",
    "\n",
    "contrasena = \"cerdito\"\n",
    "\n",
    "if contrasena_ingresada.lower() == contrasena.lower():\n",
    "    print(\"Las contraseñas coinciden\")\n",
    "else: \n",
    "    print(\"Las contraseñas no coinciden\")"
   ]
  },
  {
   "cell_type": "markdown",
   "id": "96649de9-dae2-42a1-82e8-99f7f259165e",
   "metadata": {},
   "source": [
    "## División cero"
   ]
  },
  {
   "cell_type": "markdown",
   "id": "70843bb8-6c0d-4252-8d95-6f7da729dd5e",
   "metadata": {},
   "source": [
    "Escribir un programa que pida al usuario dos números y muestre por pantalla su división. Si el divisor es cero el programa debe mostrar un error"
   ]
  },
  {
   "cell_type": "code",
   "execution_count": null,
   "id": "b6fae52e-1de1-4124-9a64-96358e8ced19",
   "metadata": {},
   "outputs": [],
   "source": [
    "num1 = int(input(\"Ingresá un numero:\"))\n",
    "num2 = int(input(\"Ingresá otro numero distinto de cero:\"))\n",
    "\n",
    "if num2 == 0:\n",
    "    print(\"ERROR. No se puede dividir por cero\")\n",
    "    \n",
    "else:\n",
    "    resultado_division = num1 / num2\n",
    "    print (f\"El resultado de la división es: {int(resultado_division)}\")"
   ]
  },
  {
   "cell_type": "markdown",
   "id": "7e6cfec5-3da1-4465-8f80-2cb7b3fbda46",
   "metadata": {},
   "source": [
    "## Par e Impar"
   ]
  },
  {
   "cell_type": "markdown",
   "id": "cdd0c3d8-55c8-4219-b2ae-f9a418b5a90e",
   "metadata": {},
   "source": [
    "Escribir un programa que pida al usuario un número entero y muestre por pantalla si es par o impar"
   ]
  },
  {
   "cell_type": "code",
   "execution_count": null,
   "id": "4847b1e0-891e-48b9-81f8-0f6d1f6c5a1a",
   "metadata": {},
   "outputs": [],
   "source": [
    "num1 = int(input(\"Ingresá un numero entero:\"))\n",
    "if num1 % 2 == 0:\n",
    "    print(\"El número es par\")\n",
    "else:\n",
    "    print(\"El número es impar\")"
   ]
  },
  {
   "cell_type": "markdown",
   "id": "f6e5071d-b277-4a03-b34b-a0ad268f33fe",
   "metadata": {},
   "source": [
    "## Tributar"
   ]
  },
  {
   "cell_type": "markdown",
   "id": "7e80d3d3-a264-4dd8-a632-af82eadf1b74",
   "metadata": {},
   "source": [
    "Para tributar un determinado impuesto se debe ser mayor de 18 años y tener unos ingresos iguales o superiores a 500000 ARS mensuales. Escribir un programa que pregunte al usuario su edad y sus ingresos mensuales y muestre por pantalla si el usuario tiene que tributar o no"
   ]
  },
  {
   "cell_type": "code",
   "execution_count": null,
   "id": "2fa259ce-6372-4fa4-8cfd-73dc35aa6134",
   "metadata": {},
   "outputs": [],
   "source": [
    "edad = int(input(\"Ingresá tu edad: \"))\n",
    "ingresos = int(input(\"Ingresá tus ingresos: $\"))\n",
    "\n",
    "if edad >= 18 and ingresos >= 500000:\n",
    "    print(\"Tiene que tributar\")\n",
    "else:\n",
    "    print(\"No tiene que tributar\")"
   ]
  },
  {
   "cell_type": "markdown",
   "id": "52e0d57b-a47d-4b36-801e-7d3361f1aefc",
   "metadata": {},
   "source": [
    "## Grupo alumnos"
   ]
  },
  {
   "cell_type": "markdown",
   "id": "a5e42a55-ac74-40b2-bf0a-bf03fc5e09c0",
   "metadata": {},
   "source": [
    "Los alumnos de un curso se han dividido en dos grupos A y B de acuerdo con el sexo y el nombre. El grupo A está formado por las mujeres con un nombre anterior a la M y los hombres con un nombre posterior a la N y el grupo B por el resto. Escribir un programa que pregunte al usuario su nombre y sexo, y muestre por pantalla el grupo que le corresponde"
   ]
  },
  {
   "cell_type": "code",
   "execution_count": null,
   "id": "1daec527-ce2b-471b-8970-e19602782766",
   "metadata": {},
   "outputs": [],
   "source": [
    "nombre = input(\"Ingresá tu nombre: \").lower()\n",
    "genero = input(\"Ingresá tu género: femenino o masculino\").lower()\n",
    "\n",
    "if genero == \"femenino\" and nombre[0]< \"m\" or genero == \"masculino\" and nombre[0]< \"m\":\n",
    "    grupo = \"A\"\n",
    "else:\n",
    "    grupo = \"B\"\n",
    "\n",
    "print(f\"El grupo que te corresponde es el {grupo}\")\n",
    "\n"
   ]
  },
  {
   "cell_type": "markdown",
   "id": "7ea6301d-feea-4553-9896-8dac55110a2b",
   "metadata": {},
   "source": [
    "## Tipo impositivo"
   ]
  },
  {
   "cell_type": "markdown",
   "id": "34574d87-08c2-4769-8019-63db4ea5e316",
   "metadata": {},
   "source": [
    "Los tramos impositivos para la declaración de la renta anual en un determinado país son los siguientes:\n",
    "\n",
    "| Renta                       | Tipo impositivo |\n",
    "| --                          | --              |\n",
    "| Menos de 10000 USD          | 5%              |\n",
    "| Entre 10000 USD y 20000 USD | 15%             | \n",
    "| Entre 20000 USD y 35000 USD | 20%             |\n",
    "| Entre 35000 USD y 60000 USD | 30%             |\n",
    "| Más de 60000            USD | 45%             |\n",
    "\n",
    "Escribir un programa que pregunte al usuario su renta anual y muestre por pantalla el tipo impositivo que le corresponde"
   ]
  },
  {
   "cell_type": "code",
   "execution_count": null,
   "id": "1ba5213f-31e6-4030-9740-8cb5aeb621c4",
   "metadata": {},
   "outputs": [],
   "source": [
    "renta = int(input(\"Ingresá tu renta anual en USD: \"))\n",
    "\n",
    "if renta < 10000:\n",
    "    tipo_impositivo = \"5%\"\n",
    "elif renta >=10000 and renta <20000:\n",
    "    tipo_impositivo = \"15%\"\n",
    "elif renta >=20000 and renta <3500000:\n",
    "    tipo_impositivo = \"20%\"\n",
    "elif renta >=35000 and renta <60000:\n",
    "    tipo_impositivo = \"30%\"\n",
    "elif renta>60000: \n",
    "    tipo_impositivo = \"45%\"\n",
    "\n",
    "print(f\"Tu tipo impositivo es: {tipo_impositivo}\")"
   ]
  },
  {
   "cell_type": "markdown",
   "id": "a8eae908-f053-4506-b586-96221ed642b2",
   "metadata": {},
   "source": [
    "## Rendimiento usuario"
   ]
  },
  {
   "cell_type": "markdown",
   "id": "bc8ffb3a-840e-4f12-81c5-81b9e09e14c3",
   "metadata": {},
   "source": [
    "En una determinada empresa, sus empleados son evaluados al final de cada año.\n",
    "Los puntos que pueden obtener en la evaluación comienzan en 0.0 y pueden ir aumentando, traduciéndose en mejores beneficios. Los puntos que pueden conseguir los empleados pueden ser 0.0, 0.4, 0.6 o más, pero no valores intermedios entre las cifras mencionadas. A continuación, se muestra una tabla con los niveles correspondientes a cada puntuación. La cantidad de dinero\n",
    "conseguida en cada nivel es de 500.000 ARS multiplicada por la puntuación del nivel\n",
    "\n",
    "| Nivel       | Puntuación |\n",
    "| --          | --         |\n",
    "| Inaceptable | 0.0        |\n",
    "| Aceptable   | 0.4        |\n",
    "| Meritorio   | 0.6 o más  |\n",
    "\n",
    "Escribir un programa que lea la puntuación del usuario e indique su nivel de rendimiento, así como la cantidad de dinero que recibirá el usuario"
   ]
  },
  {
   "cell_type": "code",
   "execution_count": null,
   "id": "64ab845f-1f16-4220-9bfa-2f175ebd7cf8",
   "metadata": {},
   "outputs": [],
   "source": [
    "puntos = float(input(\"Ingresá tu puntuacion : 0.0 , 0.4 , 0.6 o mas: \"))\n",
    "if puntos > 0.0 and puntos < 0.4 or puntos > 0.4 and puntos < 0.6:\n",
    "    print(\"Error, no pueden haber valores intermedios a 0.0, a 0.4 y 0.6\")\n",
    "if puntos == 0.0 or puntos == 0.4 or puntos >= 0.6:\n",
    "    dinero = 500000\n",
    "    print(f\"La cantidad de dinero ganada según puntuación es de: {int(dinero * puntos)}\")\n"
   ]
  },
  {
   "cell_type": "markdown",
   "id": "cecd19dd-3108-40b1-bb2a-9c46e6d4e503",
   "metadata": {},
   "source": [
    "## Entrada según edad"
   ]
  },
  {
   "cell_type": "markdown",
   "id": "aec3f1e9-858c-4419-a6ba-aaa0f0b57b13",
   "metadata": {},
   "source": [
    "Escribir un programa para una empresa que tiene salas de juegos para todas las edades y quiere calcular de forma automática el precio que debe cobrar a sus clientes por entrar. El programa debe preguntar al usuario la edad del cliente y mostrar el precio de la entrada. Si el cliente es menor de 4 años puede entrar gratis, si tiene entre 4 y 18 años debe pagar 10500 ARS y si es mayor de 18 años, 14000 ARS"
   ]
  },
  {
   "cell_type": "code",
   "execution_count": null,
   "id": "6b2210a1-e977-4c01-b466-29aa6073d0d1",
   "metadata": {},
   "outputs": [],
   "source": [
    "edad = int(input(\"Ingresá la edad del cliente: \"))\n",
    "\n",
    "if(edad < 4):\n",
    "    precio = \"Gratis\"\n",
    "elif(edad >= 4 and edad < 18):\n",
    "    precio = 10500\n",
    "else:\n",
    "    precio = 14000\n",
    "print(f\"El precio de la entrada es: {precio}\")"
   ]
  },
  {
   "cell_type": "markdown",
   "id": "e3123f58-e3d3-4c9e-845a-e3fe863675bd",
   "metadata": {},
   "source": [
    "## Pizzeria"
   ]
  },
  {
   "cell_type": "markdown",
   "id": "fb5e2c6c-5aa8-4b38-b715-5393f0645d2d",
   "metadata": {},
   "source": [
    "La pizzería Napoli ofrece pizzas vegetarianas y no vegetarianas a sus clientes. Los\n",
    "ingredientes para cada tipo de pizza aparecen a continuación\n",
    "\n",
    "* Ingredientes vegetarianos: Pimiento y tofu.\n",
    "* Ingredientes no vegetarianos: Peperoni, Jamón y Salmón.\n",
    "\n",
    "Escribir un programa que pregunte al usuario si quiere una pizza vegetariana o no, y en función de su respuesta le muestre un menú con los ingredientes disponibles para que elija. Solo se puede eligir un ingrediente además de la mozzarella y el tomate que están en todas la pizzas. Al final se debe mostrar por pantalla si la pizza elegida es vegetariana o no y todos los ingredientes que lleva"
   ]
  },
  {
   "cell_type": "code",
   "execution_count": null,
   "id": "d7b21f7b-f5e9-44f2-8ee8-43ac0a50e066",
   "metadata": {},
   "outputs": [],
   "source": [
    "respuesta = input(\"Querés pizza vegetariana?: Ingresá SI o NO \").lower()\n",
    "\n",
    "ingredientes_comunes = \"Mozarella y tomate\"\n",
    "pimiento = \"pimiento\"\n",
    "tofu = \"tofu\"\n",
    "peperoni = \"peperoni\"\n",
    "jamon = \"jamon\" or \"jamón\"\n",
    "salmon = \"salmon\" or \"salmón\"\n",
    "if respuesta == \"si\":\n",
    "    ingredientes_vegetarianos = input(f\"Elegí un ingrediente:{pimiento} o {tofu}:\").lower()\n",
    "    print(f\"Menú vegetariano : {ingredientes_comunes} con {ingredientes_vegetarianos}\")\n",
    "    \n",
    "elif respuesta == \"no\":\n",
    "    ingredientes_no_vegetarianos = input(f\"Elegí un ingrediente:{peperoni}, {jamon}, {salmon}:\").lower()\n",
    "    print(f\"Menú no vegetariano: {ingredientes_comunes} con {ingredientes_no_vegetarianos} \")\n",
    "    "
   ]
  },
  {
   "metadata": {},
   "cell_type": "code",
   "outputs": [],
   "execution_count": null,
   "source": "",
   "id": "61ddcffb38534049"
  }
 ],
 "metadata": {
  "kernelspec": {
   "display_name": "Python [conda env:base] *",
   "language": "python",
   "name": "conda-base-py"
  },
  "language_info": {
   "codemirror_mode": {
    "name": "ipython",
    "version": 3
   },
   "file_extension": ".py",
   "mimetype": "text/x-python",
   "name": "python",
   "nbconvert_exporter": "python",
   "pygments_lexer": "ipython3",
   "version": "3.12.7"
  }
 },
 "nbformat": 4,
 "nbformat_minor": 5
}
