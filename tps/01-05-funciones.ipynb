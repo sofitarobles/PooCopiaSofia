{
 "cells": [
  {
   "cell_type": "markdown",
   "id": "1432672a-87f2-4845-bff3-95ebae4ab12e",
   "metadata": {},
   "source": [
    "# TP - Funciones\n",
    "---"
   ]
  },
  {
   "cell_type": "markdown",
   "id": "f8eb9a9e-73b3-4452-9b99-847daad2c4b5",
   "metadata": {},
   "source": [
    "## Saludo"
   ]
  },
  {
   "cell_type": "markdown",
   "id": "ca7fa1e4-f9e6-4edd-9bef-dbce94604444",
   "metadata": {},
   "source": [
    "Escribir una función que muestre por pantalla el saludo ¡Hola amigo! cada vez que se la invoque"
   ]
  },
  {
   "cell_type": "code",
   "execution_count": null,
   "id": "fe6a0d20-7ca0-415b-8a2f-0a5a6bc06ccd",
   "metadata": {},
   "outputs": [],
   "source": [
    "def saludo():\n",
    "    saludo = \"¡Hola amigo!\"\n",
    "    print(saludo)\n",
    "\n",
    "saludo()"
   ]
  },
  {
   "cell_type": "markdown",
   "id": "2a9e6f55-b391-47db-ae7f-ebb03bd727a1",
   "metadata": {},
   "source": [
    "## Saludo con parámetro"
   ]
  },
  {
   "cell_type": "markdown",
   "id": "06c1221a-e332-4b54-b34c-80b7bf8c6390",
   "metadata": {},
   "source": [
    "Escribir una función a la que se le pase una cadena \\<nombre> y muestre por pantalla el saludo ¡hola \\<nombre>!"
   ]
  },
  {
   "cell_type": "code",
   "execution_count": null,
   "id": "41b7de81-a4c7-435e-9a19-9ed477c633ad",
   "metadata": {},
   "outputs": [],
   "source": [
    "def saludar(nombre):\n",
    "    print(f\"¡Hola {nombre}!\")\n",
    "    \n",
    "nombre = input(\"Ingresa un nombre:\")\n",
    "saludar(nombre)\n",
    "    "
   ]
  },
  {
   "cell_type": "markdown",
   "id": "d354adb7-6ff6-49ec-91a7-4b38f778a599",
   "metadata": {},
   "source": [
    "## Factorial"
   ]
  },
  {
   "cell_type": "markdown",
   "id": "15e0b2a6-e9e1-4424-b529-d8fcfce6e4b3",
   "metadata": {},
   "source": [
    "Escribir una función que reciba un número entero positivo y devuelva su factorial"
   ]
  },
  {
   "cell_type": "code",
   "execution_count": null,
   "id": "a93be7bd-f6ee-485c-902e-0dd766033337",
   "metadata": {},
   "outputs": [],
   "source": [
    "def factorial(numero):\n",
    "    if numero <= 0:\n",
    "        resultado = \"ERROR. Ingresá un numero entero positivo\" #acá me fijo que no sea un numero negativo\n",
    "        return resultado\n",
    "    else:\n",
    "        resultado = 1 #le doy un valor inicial a una variable para empezar a multiplicar el factorial\n",
    "        for i in range(1, numero+1):   # voy de 1 a número(+1 para que incluya al último)\n",
    "            resultado *= i #los voy multiplicando\n",
    "        return resultado\n",
    "        \n",
    "def pedir_numero():        \n",
    "    numero = int(input(\"Ingresá un número entero positivo\"))\n",
    "    return numero\n",
    "\n",
    "#llamo a las funciones\n",
    "numero = pedir_numero()\n",
    "resultado = factorial(numero) \n",
    "\n",
    "print(f\"El factorial de {numero} es: {resultado}\")"
   ]
  },
  {
   "cell_type": "markdown",
   "id": "08320957-beb3-4a48-bb9a-6cc0d2054046",
   "metadata": {},
   "source": [
    "## IVA"
   ]
  },
  {
   "cell_type": "markdown",
   "id": "e12440bc-3426-4c3b-8e3b-3675feba7d27",
   "metadata": {},
   "source": [
    "Escribir una función que calcule el total de una factura tras aplicarle el IVA. La función debe recibir la cantidad sin IVA y el porcentaje de IVA a aplicar, y devolver el total de la factura. Si se invoca la función sin pasarle el porcentaje de IVA, deberá\n",
    "aplicar un 21%"
   ]
  },
  {
   "cell_type": "code",
   "execution_count": null,
   "id": "5e88851c-8c91-4584-8ddc-6c085cdb73d9",
   "metadata": {},
   "outputs": [],
   "source": [
    "def preguntar_si_agrego_iva():\n",
    "    pido_iva = input(\"Tenés el porcentaje de IVA para ingresar? SI o NO\").lower()\n",
    "    return pido_iva\n",
    "\n",
    "def pedir_cantidad_sin_iva():        \n",
    "    cant_sin_iva = int(input(\"Ingresá el total de la factura sin el IVA: \"))\n",
    "    return cant_sin_iva\n",
    "    \n",
    "def porcentaje_de_iva():\n",
    "    porcentaje_iva = int(input(\"Ingresá el porcentaje de IVA a aplicar: \"))/100           #lo divido por cien para que me tire el resultado en porcentaje\n",
    "    return porcentaje_iva\n",
    "    \n",
    "def calcular_total_con_iva(cant, porc):\n",
    "    resultado = (cant*porc) + cant\n",
    "    return resultado\n",
    "\n",
    "respuesta = preguntar_si_agrego_iva()                                                     #primero pregunto si quiero o no agregar el IVA\n",
    "\n",
    "if respuesta == \"si\":                                                                     #si quiero, llamo a las dos funciones, la de pedir el total sin IVA y la de pedir por separado el IVA\n",
    "    cantidad = pedir_cantidad_sin_iva()\n",
    "    porcentaje = porcentaje_de_iva()\n",
    "elif respuesta == \"no\":                                                                   #si no quiero, llamo a una sola, y le doy yo el valor al porcentaje, el 21%\n",
    "    cantidad = pedir_cantidad_sin_iva()\n",
    "    porcentaje = 21/100\n",
    "\n",
    "resultado = calcular_total_con_iva(cantidad, porcentaje)\n",
    "\n",
    "print(f\"El resultado de la factura con el IVA es:${resultado:.2f}\")\n",
    "\n"
   ]
  },
  {
   "cell_type": "markdown",
   "id": "3c6fdad7-7abe-4531-a2e5-fc2aa146c394",
   "metadata": {},
   "source": [
    "## Areas"
   ]
  },
  {
   "cell_type": "markdown",
   "id": "f4b606e5-ad4e-448e-abed-98c8df1eff90",
   "metadata": {},
   "source": [
    "Escribir una función que calcule el área de un círculo y otra que calcule el volumen de un cilindro usando la primera función"
   ]
  },
  {
   "cell_type": "code",
   "execution_count": null,
   "id": "a2f778e6-bf78-41f4-8959-d177d2ad8cbd",
   "metadata": {},
   "outputs": [],
   "source": [
    "def pido_el_radio_del_circulo():\n",
    "    radio = (float(input(\"Ingresá el radio del círculo: \")))\n",
    "    return radio\n",
    "\n",
    "def calculo_el_area_del_circulo(radio):\n",
    "    area = 3.14 * ((radio) **2)\n",
    "    return area\n",
    "    \n",
    "def pido_la_altura_del_cilindro():\n",
    "    altura = float(input(\"Ingresá la altura del cilindro: \"))\n",
    "    return altura\n",
    "    \n",
    "def calculo_el_volumen_del_cilindro(area, altura):\n",
    "    volumen = area * altura\n",
    "    return volumen\n",
    "\n",
    "radio = pido_el_radio_del_circulo()\n",
    "area = calculo_el_area_del_circulo(radio)\n",
    "altura = pido_la_altura_del_cilindro()\n",
    "volumen = calculo_el_volumen_del_cilindro(area, altura)\n",
    "\n",
    "print(f\"El área del círculo con radio {radio:.2f} es: {area:.2f}, y el volumen del cilindro de altura {altura:.2f} es: {volumen:.2f}\")\n"
   ]
  },
  {
   "cell_type": "markdown",
   "id": "6850107b-991b-41fb-990a-0cf8d3071132",
   "metadata": {},
   "source": [
    "## Media"
   ]
  },
  {
   "cell_type": "markdown",
   "id": "7a0198ad-6354-4e36-92f8-ce923097ad5a",
   "metadata": {},
   "source": [
    "Escribir una función que reciba una muestra de números en una lista y devuelva su media"
   ]
  },
  {
   "cell_type": "code",
   "execution_count": null,
   "id": "a560d533-d97f-49cb-99a1-b22340616c3e",
   "metadata": {},
   "outputs": [],
   "source": [
    "def calculo_la_media():\n",
    "    \n",
    "    sumatoria_de_numeros = 0\n",
    "    registro_cuantos_numeros_hay = 0\n",
    "\n",
    "    numeros = (int(input(\"Ingresá numeros, y cuando no quieras ingresar más, ingresá un 0: \")))\n",
    "    while numeros != 0:\n",
    "        sumatoria_de_numeros += numeros\n",
    "        registro_cuantos_numeros_hay += 1\n",
    "        numeros = (int(input(\"Ingresá numeros, y cuando no quieras ingresar más, ingresá un 0: \")))\n",
    "        \n",
    "    if registro_cuantos_numeros_hay >0:\n",
    "        media = sumatoria_de_numeros / registro_cuantos_numeros_hay\n",
    "        return media\n",
    "    else:\n",
    "        mensaje = print(\"No ingresaste ningún número\")\n",
    "        return mensaje\n",
    "\n",
    "def mostrar_media(media):\n",
    "    print(f\"La media de la lista de números ingresada es: {media}\")\n",
    "    \n",
    "media = calculo_la_media()\n",
    "mostrar_media(media)\n"
   ]
  },
  {
   "cell_type": "markdown",
   "id": "6dd4d7cd-8e27-4835-9cb2-eaa80c86ca54",
   "metadata": {},
   "source": [
    "## Cuadrados"
   ]
  },
  {
   "cell_type": "markdown",
   "id": "fb87ce7b-7d6a-47f1-9c1a-9485861b39f5",
   "metadata": {},
   "source": [
    "Escribir una función que reciba una muestra de números en una lista y devuelva otra lista con sus cuadrados"
   ]
  },
  {
   "cell_type": "code",
   "execution_count": null,
   "id": "cf5e394f-4180-4467-a4bf-7309666e8baf",
   "metadata": {},
   "outputs": [],
   "source": [
    "def hacer_lista_de_numeros():\n",
    "    string_de_numeros = \"\" #inicializo el string que va a guardar los numeros concatenados con un espacio\n",
    "    \n",
    "    numero = input(\"Ingresá numeros, y cuando no quieras ingresar más, ingresá un 0:\")\n",
    "    while numero != \"0\":\n",
    "        string_de_numeros += numero + \" \"\n",
    "        numero = input(\"Ingresá numeros, y cuando no quieras ingresar más, ingresá un 0:\")\n",
    "\n",
    "    lista_de_numeros = string_de_numeros.split()  #aplico split y me devuelve una lista\n",
    "    \n",
    "    return lista_de_numeros\n",
    "\n",
    "def calcular_lista_de_cuadrados(lista_de_numeros):\n",
    "    string_de_cuadrados = \"\"  #inicializo el string que va a guardar cada numero de la lista concatenados con un espacio\n",
    "    \n",
    "    for cada_numero in lista_de_numeros: #(que todavia es una lista de string)\n",
    "        numero_int = int(cada_numero) #convierto cada numero en un entero\n",
    "        string_de_cuadrados += str(numero_int**2) + \" \" #ya tenemos un string con todos los cuadrados separados por un espacio\n",
    "\n",
    "    lista_de_cuadrados = string_de_cuadrados.split() #el enunciado me pide devolver una lista asi que aplico split de nuevo para obtener otra lista\n",
    "\n",
    "    return lista_de_cuadrados\n",
    "    \n",
    "lista_de_numeros = hacer_lista_de_numeros()\n",
    "lista_de_cuadrados = calcular_lista_de_cuadrados(lista_de_numeros)\n",
    "print(f\"Lista de los cuadrados de los numeros ingresados: {lista_de_cuadrados}\")"
   ]
  },
  {
   "cell_type": "markdown",
   "id": "a4cac9ea-c61b-480e-8f74-19ec460ebd9e",
   "metadata": {},
   "source": [
    "## Media, varianza, desviación"
   ]
  },
  {
   "cell_type": "markdown",
   "id": "21009836-e2dc-40b1-9948-20e7d7ab6111",
   "metadata": {},
   "source": [
    "Escribir una función que reciba una muestra de números en una lista y devuelva un diccionario con su media, varianza y desviación típica"
   ]
  },
  {
   "cell_type": "code",
   "execution_count": null,
   "id": "ba166f5e-9d87-4c4a-8e99-9d1a9c5ca183",
   "metadata": {},
   "outputs": [],
   "source": "#No lo hago porque todavía no vimos diccionarios"
  },
  {
   "cell_type": "markdown",
   "id": "e057cc40-b56b-4014-b5fe-38cb11ddae31",
   "metadata": {},
   "source": [
    "## Común divisor múltiplo"
   ]
  },
  {
   "cell_type": "markdown",
   "id": "a1523f1c-0076-436a-a7a4-709f0baee89a",
   "metadata": {},
   "source": [
    "Escribir una función que calcule el máximo común divisor de dos números y otra que calcule el mínimo común múltiplo"
   ]
  },
  {
   "cell_type": "code",
   "execution_count": null,
   "id": "eca233c7-3375-4de0-8d40-f5947fc2dbbc",
   "metadata": {},
   "outputs": [],
   "source": [
    "def calcular_maximo_comun_divisor(a,b):\n",
    "    c = 0\n",
    "    \n",
    "    if a < b : #necesito que a sea mayor a b, los intercambio\n",
    "        c = b\n",
    "        b = a\n",
    "        a = c\n",
    "        \n",
    "    while b != 0:\n",
    "        resto = a % b\n",
    "        a = b\n",
    "        b = resto\n",
    "        \n",
    "    mcd = a\n",
    "    return mcd\n",
    "\n",
    "\n",
    "def calcular_minimo_comun_multiplo(a,b, mcd):\n",
    "\n",
    "    mcm = int((a*b)/mcd)\n",
    "    \n",
    "    return mcm\n",
    "\n",
    "def mostrar_resultados(a, b, mcd, mcm):\n",
    "    \n",
    "    print(f\"El máximo común divisor entre {a} y {b} es: {mcd}, y su mínimo común múltiplo es: {mcm}\")\n",
    "\n",
    "\n",
    "a = int(input(\"Ingresa un número: \"))\n",
    "b = int(input(\"ingresa otro número: \")) \n",
    "\n",
    "mcd = calcular_maximo_comun_divisor(a,b)\n",
    "mcm = calcular_minimo_comun_multiplo(a,b, mcd)\n",
    "mostrar_resultados(a, b, mcd, mcm)"
   ]
  },
  {
   "cell_type": "markdown",
   "id": "301de8d0-4475-4c72-a51b-21b5ae83ae88",
   "metadata": {},
   "source": [
    "## Decimal a binario"
   ]
  },
  {
   "cell_type": "markdown",
   "id": "763f8d23-35e6-44d9-92bc-8469e8b2f172",
   "metadata": {},
   "source": [
    "Escribir una función que convierta un número decimal en binario y otra que convierta un número binario en decimal"
   ]
  },
  {
   "cell_type": "code",
   "execution_count": null,
   "id": "d28d797f-3cfa-4836-a956-b03edd548803",
   "metadata": {},
   "outputs": [],
   "source": [
    "#Necesito escribir un algoritmo que agarre un numero y lo divida en 2, si tiene resto 1 tengo un 1 binario y continuo\n",
    "#la división hasta llegar al 0\n",
    "\n",
    "def convertir_de_decimal_a_binario(numero):\n",
    "    numero_binario = \"\"\n",
    "\n",
    "    while numero !=0:\n",
    "        resto = numero % 2\n",
    "        numero_binario = str(resto) + numero_binario #se lee de derecha a izquierda, así que hay que poner el nuevo resto delante de lo que ya estaba\n",
    "        numero = numero //2\n",
    "\n",
    "    return numero_binario\n",
    "\n",
    "def convertir_de_binario_a_decimal(numero_binario):\n",
    "    numero_decimal = 0\n",
    "    \n",
    "    longitud = len(numero_binario)\n",
    "    \n",
    "    for i in range(longitud):\n",
    "        \n",
    "        bit_de_derecha_a_izquierda= int(numero_binario[longitud - 1 - i])#guardo el ultimo bit, lo uso primero, voy de derecha a izquierda\n",
    "                                       \n",
    "        numero_decimal += bit_de_derecha_a_izquierda * (2 **i) #desde la última posición se va corriendo hacia la izquierda\n",
    "        \n",
    "    return numero_decimal\n",
    "\n",
    "def mostrar_resultados(numero, numero_decimal_a_binario, numero_binario, numero_decimal):\n",
    "    \n",
    "    print(f\"El numero decimal {numero} en binario es: {numero_decimal_a_binario}, y el número binario {numero_binario} en decimal es {numero_decimal}\")\n",
    "\n",
    "\n",
    "numero = int(input(\"Ingresa un número en decimal: \"))\n",
    "numero_decimal_a_binario = convertir_de_decimal_a_binario(numero)\n",
    "\n",
    "numero_binario = input(\"Ingresa un número en binario: \")\n",
    "numero_decimal = convertir_de_binario_a_decimal(numero_binario)\n",
    "\n",
    "mostrar_resultados(numero, numero_decimal_a_binario, numero_binario, numero_decimal)"
   ]
  },
  {
   "cell_type": "markdown",
   "id": "2c9d2a7d-5119-47e4-bbe1-c8a0c70b95a7",
   "metadata": {},
   "source": [
    "## Fecuencia de caracteres"
   ]
  },
  {
   "cell_type": "markdown",
   "id": "e29febbb-306a-4519-96df-d8dd24d76593",
   "metadata": {},
   "source": [
    "Escribir un programa que reciba una cadena de caracteres y devuelva un diccionario con cada palabra que contiene y su frecuencia. Escribir otra función que reciba el diccionario generado con la función anterior y devuelva una tupla con la palabra más repetida y su frecuencia"
   ]
  },
  {
   "cell_type": "code",
   "execution_count": null,
   "id": "d8a13d17-11e1-442f-bab4-7a1d9d38c273",
   "metadata": {},
   "outputs": [],
   "source": "#todavia no sabemos hacer diccionarios"
  },
  {
   "cell_type": "markdown",
   "id": "3e46e8cf-0e37-47a8-9241-2d97da68c0ee",
   "metadata": {},
   "source": [
    "## Números naturales"
   ]
  },
  {
   "cell_type": "markdown",
   "id": "7e7cbd1b-ef39-4b99-83ee-3cd42f6d36bd",
   "metadata": {},
   "source": [
    "Desarrollar una función que muestre por pantalla los primeros n números naturales considerando al 0 (cero) como primer número natural, siendo n un valor que se pasa por parámetro"
   ]
  },
  {
   "cell_type": "code",
   "execution_count": null,
   "id": "063f74f9-d0cc-496d-8fcf-4f2427554e0f",
   "metadata": {},
   "outputs": [],
   "source": [
    "def pido_un_numero_natural():\n",
    "\n",
    "    numero_natural = int(input(\"Ingresá un número natural: \"))\n",
    "    \n",
    "    if numero_natural>= 0:\n",
    "        return numero_natural\n",
    "        \n",
    "def n_numeros_naturales(numero_natural):\n",
    "    n_naturales = \"\"\n",
    "    \n",
    "    for i in range(numero_natural+1):\n",
    "        n_naturales = str(n_naturales) + str(i) + \" \"\n",
    "\n",
    "    return n_naturales\n",
    "            \n",
    "def mostrar_por_pantalla_n_numeros_naturales(numero_natural,n_naturales):\n",
    "    print(f\"Los números naturales del 0 al {numero_natural} son: {n_naturales}\")\n",
    "        \n",
    "        \n",
    "numero_natural = pido_un_numero_natural()\n",
    "n_naturales = n_numeros_naturales(numero_natural)\n",
    "mostrar_por_pantalla_n_numeros_naturales(numero_natural,n_naturales)"
   ]
  },
  {
   "cell_type": "markdown",
   "id": "f34905c3-dfb6-4bbc-87b2-d0a7bd1010a0",
   "metadata": {},
   "source": [
    "## Suma de múltiplos"
   ]
  },
  {
   "cell_type": "markdown",
   "id": "fcac78b8-a04d-4572-8c1b-93f1c22f15c8",
   "metadata": {},
   "source": [
    "Escribir una función que calcule la suma de los múltiplos de 3 o 5, mayores o iguales que 0 y menores que un parámetro n. Por ejemplo la llamada:\n",
    "* sumaMultiplos(10); // devuelve 23 (3+5+6+9)\n",
    "* sumaMultiplos(16); // devuelve 60 (3+5+6+9+10+12+15)"
   ]
  },
  {
   "cell_type": "code",
   "execution_count": null,
   "id": "10ae1f7e-f848-42d5-aec9-b464d418fdf6",
   "metadata": {},
   "outputs": [],
   "source": [
    "def suma_de_multiplos(n):\n",
    "    \n",
    "    sumatoria_de_multiplos = 0\n",
    "    numeros_del_cero_hasta_n = \"\"\n",
    "    \n",
    "    for i in range (0, n):\n",
    "            if i % 3 == 0 or i % 5 == 0:\n",
    "                sumatoria_de_multiplos+= i\n",
    "            \n",
    "    return sumatoria_de_multiplos\n",
    "    \n",
    "\n",
    "def pedir_un_numero_n():\n",
    "\n",
    "    n = int(input(\"Ingresa un numero:\")) \n",
    "    \n",
    "    return n\n",
    "\n",
    "\n",
    "def mostrar_la_suma_de_multiplos(n, sumatoria_de_multiplos):\n",
    "\n",
    "    print(f\"La sumatoria de múltiplos desde 0 hasta {n} es: {sumatoria_de_multiplos}\")\n",
    "\n",
    "\n",
    "n = pedir_un_numero_n()\n",
    "sumatoria_de_multiplos = suma_de_multiplos(n)\n",
    "mostrar_la_suma_de_multiplos(n, sumatoria_de_multiplos) "
   ]
  },
  {
   "cell_type": "markdown",
   "id": "60f580b2-c5e0-426a-9f4f-8574ed8c8780",
   "metadata": {},
   "source": [
    "## Fecha anterior y posterior"
   ]
  },
  {
   "cell_type": "markdown",
   "id": "17103670-8ef3-466f-814c-b8a21c890281",
   "metadata": {},
   "source": [
    "Implementar una función que recibe dos enteros de 8 dígitos con el formato aaaammdd, informar cuál de las dos es la anterior y cuál la posterior"
   ]
  },
  {
   "cell_type": "code",
   "execution_count": null,
   "id": "b259b2ee-9659-4a74-b70d-bb0c7c8adad6",
   "metadata": {},
   "outputs": [],
   "source": [
    "\n",
    "def determinar_anterior_y_posterior():\n",
    "    entero_1 = int(input(\"Ingresá una fecha con el siguiente formato: aaaammdd, ej: 20250824\"))\n",
    "    entero_2 = int(input(\"Ingresá otra fecha con el siguiente formato: aaaammdd, ej: 20250824\"))\n",
    "\n",
    "    if entero_1 > entero_2: #los compara bit a bit\n",
    "        return f\"La anterior es {entero_2}, y la posterior es {entero_1}\"\n",
    "    elif entero_1 < entero_2:\n",
    "        return f\"La anterior es {entero_1}, y la posterior es {entero_2}\"\n",
    "    else:\n",
    "        return \"Las fechas son iguales\"\n",
    "\n",
    "resultado = determinar_anterior_y_posterior()\n",
    "print(resultado)"
   ]
  },
  {
   "cell_type": "markdown",
   "id": "49e44680-13fb-47c2-a366-5bcbd3bdd53d",
   "metadata": {},
   "source": [
    "## Invertir cadena"
   ]
  },
  {
   "cell_type": "markdown",
   "id": "ca296fe1-cc48-42f8-a0c3-a5bf9ec30200",
   "metadata": {},
   "source": [
    "Escribir una función que reciba un string y lo devuelva invertido. Por ejemplo: invertirCadena(\"Hola\"),retorna \"aloH\". Reutilice la función implementada para decir si una palabra es o no, un palíndromo. **esPalindromo(\"neuquen\")** devuelve true"
   ]
  },
  {
   "cell_type": "code",
   "execution_count": null,
   "id": "d8b6ba97-a6dd-468e-8c1b-386c5b2f0e61",
   "metadata": {},
   "outputs": [],
   "source": [
    "def pedir_una_cadena():\n",
    "\n",
    "    palabra = input(\"Ingresa una palabra:\")\n",
    "    \n",
    "    return palabra\n",
    "\n",
    "def invertir_cadena(palabra):\n",
    "    palabra_invertida = \"\"\n",
    "    \n",
    "    for digito in palabra:\n",
    "\n",
    "        palabra_invertida = digito + palabra_invertida #esto hace que el digito se ubique a la izquierda\n",
    "        \n",
    "    return palabra_invertida\n",
    "    \n",
    "def compruebo_si_es_palindromo(palabra):\n",
    "    palabra_invertida = \"\"\n",
    "    es_o_no_es_palindromo = \"\"\n",
    "    \n",
    "    palabra_invertida = invertir_cadena(palabra)\n",
    "\n",
    "    if palabra_invertida == palabra:\n",
    "        es_o_no_es_palindromo = \"es un palindromo\"\n",
    "    else:\n",
    "        es_o_no_es_palindromo = \"no es un palindromo\"\n",
    "    \n",
    "    return es_o_no_es_palindromo\n",
    "\n",
    "\n",
    "palabra = pedir_una_cadena()\n",
    "palabra_invertida = invertir_cadena(palabra)\n",
    "es_o_no_es_palindromo = compruebo_si_es_palindromo(palabra)\n",
    "print(f\"la palabra {palabra} {es_o_no_es_palindromo}\")\n"
   ]
  },
  {
   "cell_type": "markdown",
   "id": "4231de2a-4d85-461b-8dec-ef61b246c2f5",
   "metadata": {},
   "source": [
    "## Fizzbuzz"
   ]
  },
  {
   "cell_type": "markdown",
   "id": "13994a62-a073-422b-bf1f-9a87748c758d",
   "metadata": {},
   "source": [
    "Imprimir por pantalla los números del 1 al 100 pero considerando lo siguiente: a) Si el número es divisible por 3 se debe imprimir \"Fizz\". b) Si el número es divisible por 5 se debe imprimir \"Buzz\". c) Si el número es divisible por 3 y por 5 se debe imprimir \"FizzBuzz\""
   ]
  },
  {
   "cell_type": "code",
   "execution_count": null,
   "id": "5431c7cd-016e-49a1-8534-16627b0eb943",
   "metadata": {},
   "outputs": [],
   "source": [
    "def fizzbuzz():\n",
    "\n",
    "    for i in range (0, 101):\n",
    "        \n",
    "            if i % 3 == 0 and i % 5 == 0:\n",
    "                print(\"FizzBuzz\")\n",
    "            elif i % 3 == 0:\n",
    "                print(\"Fizz\")\n",
    "            elif i % 5 == 0:\n",
    "                print(\"Buzz\")\n",
    "            else:\n",
    "                print(i)\n",
    "\n",
    "fizzbuzz()"
   ]
  },
  {
   "cell_type": "markdown",
   "id": "49f23085-6d2c-4945-a2a7-9354bf182d2e",
   "metadata": {},
   "source": [
    "## La cifra del César"
   ]
  },
  {
   "cell_type": "markdown",
   "id": "36686844-aa60-44bc-bd16-dc7feb311197",
   "metadata": {},
   "source": [
    "Encriptar un mensaje usando el método de \"la cifra del césar\", que consiste en correr cada letra -considerando la posición de cada una en el alfabeto- una determinada cantidad de lugares. Ejemplo: si el corrimiento es de 2 lugares, la palabra \"HOLA\" se transforma en \"JQNC\". Si el alfabeto termina antes de poder correr la cantidad de lugares  necesarios, se vuelve a comenzar desde la letra \"a\""
   ]
  },
  {
   "cell_type": "code",
   "execution_count": null,
   "id": "9f80dd87-29ec-49d4-bb0a-e109407f2f76",
   "metadata": {},
   "outputs": [],
   "source": [
    "def pedir_la_frase():\n",
    "    frase = input(\"Ingresa una frase, vamos a encriptarla:\")\n",
    "    return frase\n",
    "\n",
    "def pedir_el_corrimiento():\n",
    "    corrimiento = int(input(\"Ingresá cuántos lugares nos vamos a correr desde cada letra de la frase para encriptarla\"))\n",
    "    return corrimiento\n",
    "\n",
    "\n",
    "def la_cifra_del_cesar(frase, corrimiento):\n",
    "\n",
    "    mensaje_encriptado = \"\"\n",
    "    alfabeto = \"abcdefghijklmnñopqrstuvwxyz\"\n",
    "    #ejemplo: frase = hoy hola\n",
    "    longitud_alfabeto = len(alfabeto)  \n",
    "\n",
    "    for letra in frase:\n",
    "        for i in range(longitud_alfabeto): \n",
    "            \n",
    "            espacios_que_faltan_para_llegar_al_ultimo = longitud_alfabeto - i # i va a indicarme donde estoy parada en el alfabeto\n",
    "                                                                              \n",
    "            if espacios_que_faltan_para_llegar_al_ultimo > corrimiento: #me alcanza para hacer el corrimiento      \n",
    "                                                                              \n",
    "                if letra.isalpha():\n",
    "                    if alfabeto[i] == letra:\n",
    "                        mensaje_encriptado = mensaje_encriptado + alfabeto[i+corrimiento] \n",
    "                        break\n",
    "                elif letra == \" \":\n",
    "                    mensaje_encriptado = mensaje_encriptado + \" \" \n",
    "                    break\n",
    "            \n",
    "            if espacios_que_faltan_para_llegar_al_ultimo < corrimiento: #no me alcanza para hacer el corrimiento\n",
    "                \n",
    "                nuevo_indice_i = corrimiento - espacios_que_faltan_para_llegar_al_ultimo\n",
    "                mensaje_encriptado = mensaje_encriptado + alfabeto[nuevo_indice_i]\n",
    "                \n",
    "                break \n",
    "                \n",
    "    return mensaje_encriptado\n",
    "\n",
    "def mostrar_mensaje_encriptado(mensaje_encriptado):\n",
    "\n",
    "    print(f\"Tu mensaje encriptado es: {mensaje_encriptado}\")\n",
    "\n",
    "\n",
    "frase = pedir_la_frase()\n",
    "corrimiento = pedir_el_corrimiento()\n",
    "mensaje_encriptado = la_cifra_del_cesar(frase, corrimiento)\n",
    "mostrar_mensaje_encriptado(mensaje_encriptado)\n"
   ]
  },
  {
   "cell_type": "markdown",
   "id": "de1d3e3a-bd14-4d06-abe3-a8918293675f",
   "metadata": {},
   "source": [
    "## Facturación"
   ]
  },
  {
   "cell_type": "markdown",
   "id": "cb24e23d-b45b-4a48-b796-c38ce88918ff",
   "metadata": {},
   "source": [
    "Se tiene una tabla que detalla la facturación emitida por un comercio durante el período de un mes, con el siguiente formato: nroFactura (número entero de 8 dígitos), día (número entero entre 1 y 31), importe (número real), codCliente (alfanumérico, 5 caracteres). Los datos no necesariamente están ordenados y puede haber más de una factura emitida en un mismo día. Finaliza cuando se ingrese un nroFactura igual a cero. Se pide:\n",
    "1. Total facturado por día, sólo para aquellos días en los que hubo facturación\n",
    "1. Día de mayor facturación (será único) y monto total facturado ese día"
   ]
  },
  {
   "cell_type": "code",
   "execution_count": null,
   "id": "48cc1e5e-eb4f-4394-a271-1b9acdd15d3c",
   "metadata": {},
   "outputs": [],
   "source": [
    "def calcular_total_facturado():  \n",
    "    total_facturado_por_dia = [0] * 31  \n",
    "    nro_factura = input(\"Ingresá el número de factura de 8 dígitos o 0 para terminar: \")\n",
    "\n",
    "    while nro_factura != \"0\":  \n",
    "        while nro_factura.isdigit() == False or len(nro_factura) != 8: \n",
    "            print(\"ERROR\")\n",
    "            nro_factura = input(\"Ingresá el número de factura de 8 dígitos: \") \n",
    "         \n",
    "        dia = int(input(\"Ingresa el día, de 1 a 31: \"))\n",
    "        while dia < 1 or dia > 31:\n",
    "            print(\"ERROR\")\n",
    "            dia = int(input(\"Ingresa el día, de 1 a 31: \"))\n",
    "        \n",
    "        importe = input(\"Ingresá el importe de la factura: \")\n",
    "        while importe.isdigit() == False:\n",
    "            print(\"ERROR. Ingresa un importe válido\")\n",
    "            importe = input(\"Ingresa importe de la factura (número entero): \")\n",
    "        importe = int(importe)\n",
    "\n",
    "        cod_cliente = input(\"Ingresá el código de cliente (8 dígitos): \")\n",
    "        while cod_cliente.isalnum() == False or len(cod_cliente) != 8:\n",
    "            print(\"ERROR. Ingresa un código de 8 dígitos\")\n",
    "            cod_cliente = input(\"Ingresá código de cliente alfanumérico (8 dígitos): \")\n",
    "\n",
    "        total_facturado_por_dia[dia-1] += importe\n",
    "        \n",
    "        for i in range(31):\n",
    "            if i == 0:  \n",
    "                monto_mayor = total_facturado_por_dia[i]\n",
    "                dia_del_mayor = i + 1\n",
    "            elif total_facturado_por_dia[i] > monto_mayor:\n",
    "                monto_mayor = total_facturado_por_dia[i]\n",
    "                dia_del_mayor = i + 1\n",
    "\n",
    "        nro_factura = input(\"Ingresa número de factura (8 dígitos) o 0 para terminar: \")\n",
    "    print(\"\\n\\n-------------RESULTADOS-----------\\n\")\n",
    "    for i in range(31):\n",
    "        if total_facturado_por_dia[i] != 0:\n",
    "            print(f\"Día: {i+1}\\tTotal de facturación: {total_facturado_por_dia[i]}\")\n",
    "    print(f\"\\n\\nDía de mayor facturación: {dia_del_mayor}\\nMonto total facturado ese día: {monto_mayor}\")\n",
    "\n",
    "calcular_total_facturado()"
   ]
  },
  {
   "cell_type": "markdown",
   "id": "a7326b17-0add-4166-b3c4-6b509c44b930",
   "metadata": {},
   "source": [
    "## Números expansivos"
   ]
  },
  {
   "cell_type": "markdown",
   "id": "af175fa0-2319-4e1b-9033-7d159f841e5e",
   "metadata": {},
   "source": [
    "Los números expansivos se definen de la siguiente forma:\n",
    "* El primer número expansivo es el 1\n",
    "* Dado un número expansivo x, para calcular el siguiente se ha de sustituir cada grupo de n cifras consecutivas iguales que aparezcan en x (por ejemplo, 3333) por número n seguido de la cifra que se repite (en el ejemplo 43)\n",
    "* Así, los primeros números expansivos son:\n",
    "* 1 -> \"un uno\": 11\n",
    "* 11 -> \"dos unos\": 21\n",
    "* 21 -> \"un dos, un uno\": 1211\n",
    "* 1211 -> \"un uno, un dos, dos uno\": 111221\n",
    "\n",
    "Se pide programar: \n",
    "1. una función \"expand\" que, dado un arreglo con las cifras de un número expansivo genere el siguiente\n",
    "2. una función \"list2num\" que, dado un arreglo con las cifras de un número expansivo, devuelva el número correspondiente"
   ]
  },
  {
   "cell_type": "code",
   "execution_count": null,
   "id": "99c4c939-1b30-4949-afd9-d91476371bca",
   "metadata": {},
   "outputs": [],
   "source": [
    "def expand(): \n",
    "    numero = \"\"\n",
    "    numero = input(\"Ingresá un numero, voy a devolverlo como número expansivo: \")\n",
    "    longitud = len(numero)\n",
    "    contador_expand = 1\n",
    "    string_expand = \"\"\n",
    "    \n",
    "    for i in range(longitud):\n",
    "        \n",
    "        if i != longitud-1:\n",
    "            if numero[i] == numero[i+1]:\n",
    "                contador_expand +=1\n",
    "            elif numero[i] != numero[i+1]:  \n",
    "                string_expand = string_expand + str(contador_expand) + numero[i]\n",
    "                contador_expand = 1\n",
    "        else: \n",
    "           string_expand = string_expand + str(contador_expand) + numero[i]\n",
    "            \n",
    "    return string_expand\n",
    "\n",
    "def mostrar_numero_expansivo(string_expand):\n",
    "    numero_expansivo_int = int(string_expand) #convierto el string a int (el ejercicio dice listas pero usé strings)\n",
    "    print(f\"Tu numero expansivo es:{numero_expansivo_int}\")\n",
    "\n",
    "string_expand = expand()\n",
    "mostrar_numero_expansivo(string_expand)"
   ]
  },
  {
   "cell_type": "markdown",
   "id": "f924e91c-7c6c-4149-acbe-a8e56883302c",
   "metadata": {},
   "source": [
    "## Búsqueda secuencial"
   ]
  },
  {
   "cell_type": "markdown",
   "id": "cbdc5c90-7e9b-46c0-a96d-2e47465a9a68",
   "metadata": {},
   "source": [
    "Implementar la función: **busquedaSecuencial(int [] arreglo, int valorBuscado)** que recibe un arreglo de enteros y un valor a buscar, y devuelve la posición del valor buscado, o -1 si el valor no se encuentra"
   ]
  },
  {
   "cell_type": "code",
   "execution_count": null,
   "id": "ceb0cc13-bd14-4e77-b744-40745b89107e",
   "metadata": {},
   "outputs": [],
   "source": [
    "def busqueda_secuencial(arreglo, valor_buscado):\n",
    "    posicion = -1\n",
    "    longitud = len(arreglo)\n",
    "    \n",
    "    for i in range(longitud):\n",
    "        if arreglo[i] == valor_buscado:\n",
    "            posicion = i+1\n",
    "            \n",
    "    return posicion\n",
    "\n",
    "def mostrar_posicion(posicion, valor_buscado, arreglo):\n",
    "    print(\"-----------------------------------\")\n",
    "    print(f\"En el siguiente arreglo:\\n\\n{arreglo}\\n\\n el número {valor_buscado} se encuentra en la posición {posicion} \")\n",
    "\n",
    "def pedir_valor():\n",
    "    numero = int(input(\"Ingresá un valor a buscar: \"))\n",
    "    return numero\n",
    "\n",
    "def arreglo_de_enteros():\n",
    "    arreglo = [0]*10\n",
    "    \n",
    "    for i in range (len(arreglo)):\n",
    "        entero = int(input(\"Ingresá un numero para el arreglo: \"))\n",
    "        arreglo[i] = entero\n",
    "\n",
    "    return arreglo\n",
    "\n",
    "valor_buscado = pedir_valor()\n",
    "arreglo = arreglo_de_enteros()\n",
    "posicion = busqueda_secuencial(arreglo, valor_buscado)\n",
    "mostrar_posicion(posicion, valor_buscado, arreglo)"
   ]
  },
  {
   "cell_type": "markdown",
   "id": "c1d03992-36da-4253-9fdf-a8698a607e49",
   "metadata": {},
   "source": [
    "## Búsqueda binaria"
   ]
  },
  {
   "cell_type": "markdown",
   "id": "07ac0ab3-b0ae-4174-9327-732dc88a1569",
   "metadata": {},
   "source": [
    "Implementar la función: **busquedaBinaria(int [] arreglo, int valorBuscado)** que recibe un arreglo de enteros y un valor a buscar, y devuelve la posición del valor buscado, o -1 si el valor no se encuentra"
   ]
  },
  {
   "cell_type": "code",
   "execution_count": null,
   "id": "56181d7e-efab-4f65-885b-30a353764c1e",
   "metadata": {},
   "outputs": [],
   "source": []
  }
 ],
 "metadata": {
  "kernelspec": {
   "display_name": "Python [conda env:base] *",
   "language": "python",
   "name": "conda-base-py"
  },
  "language_info": {
   "codemirror_mode": {
    "name": "ipython",
    "version": 3
   },
   "file_extension": ".py",
   "mimetype": "text/x-python",
   "name": "python",
   "nbconvert_exporter": "python",
   "pygments_lexer": "ipython3",
   "version": "3.12.7"
  }
 },
 "nbformat": 4,
 "nbformat_minor": 5
}
